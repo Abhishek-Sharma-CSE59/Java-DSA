{
 "cells": [
  {
   "cell_type": "markdown",
   "metadata": {},
   "source": [
    "**Identifiers**\n",
    "\n",
    "- An identifier in java is the name given to Variables, Classes, Methods, Packages, Interfaces, etc.\n",
    "- These are the unique names and every java Variable must be identified with unique names.\n"
   ]
  },
  {
   "cell_type": "markdown",
   "metadata": {
    "vscode": {
     "languageId": "bat"
    }
   },
   "source": [
    "public class Test\n",
    "\n",
    "{\n",
    "    \n",
    "    public static void main(String[] args)\n",
    "        \n",
    "        {\n",
    "        \n",
    "                int a = 20;\n",
    "        \n",
    "        }\n",
    "\n",
    "}"
   ]
  },
  {
   "cell_type": "markdown",
   "metadata": {},
   "source": [
    "In the above java code, we have 5 identifiers as follow:\n",
    "- Test : Class Name\n",
    "- main : Method Name\n",
    "- String : Predefined Class Name\n",
    "- args : Variable Name\n",
    "- a : Variable Name"
   ]
  },
  {
   "cell_type": "markdown",
   "metadata": {},
   "source": [
    "**Rules**\n",
    "\n",
    "- The only allowed characters for identifiers are all alphanumeric characters([A-Z],[a-z],[0-9]), ‘$‘(dollar sign) and ‘_‘ (underscore). For example “geek@” is not a valid Java identifier as it contains a ‘@’ a special character.\n",
    "\n",
    "- Identifiers should not start with digits([0-9]). For example “123geeks” is not a valid Java identifier.\n",
    "\n",
    "- Java identifiers are case-sensitive.\n",
    "\n",
    "- There is no limit on the length of the identifier but it is advisable to use an optimum length of 4 – 15 letters only.\n",
    "\n",
    "- Reserved Words can’t be used as an identifier. For example “int while = 20;” is an invalid statement as a while is a reserved word. There are 53 reserved words in Java."
   ]
  },
  {
   "cell_type": "markdown",
   "metadata": {},
   "source": [
    "**Reserved Words in Java**\n",
    "\n",
    "- Any programming language reserves some words to represent functionalities defined by that language. These words are called reserved words. They can be briefly categorized into two parts: keywords(50) and literals(3). Keywords define functionalities and literals define value. Identifiers are used by symbol tables in various analyzing phases(like lexical, syntax, and semantic) of a compiler architecture. \n",
    "\n",
    "\n",
    "- abstract \t\n",
    "- continue\n",
    "- for \t\n",
    "- protected \t\n",
    "- transient\n",
    "- Assert \t\n",
    "- Default \t\n",
    "- Goto \t\n",
    "- public \t\n",
    "- Try\n",
    "- Boolean \t\n",
    "- Do \t\n",
    "- If \t\n",
    "- Static \t\n",
    "- throws\n",
    "- break \t\n",
    "- double \t\n",
    "- implements \t\n",
    "- strictfp \t\n",
    "- Package\n",
    "- byte \t\n",
    "- else \t\n",
    "- import \t\n",
    "- super \t\n",
    "- Private\n",
    "- case \t\n",
    "- enum \t\n",
    "- Interface \t\n",
    "- Short \t\n",
    "- switch\n",
    "- Catch \t\n",
    "- Extends \t\n",
    "- instanceof \t\n",
    "- return \t\n",
    "- void\n",
    "- Char \t\n",
    "- Final \t\n",
    "- Int \t\n",
    "- synchronized \t\n",
    "- volatile\n",
    "- class \t\n",
    "- finally \t\n",
    "- long \t\n",
    "- throw \t\n",
    "- Date\n",
    "- const \t\n",
    "- float \t\n",
    "- Native \t\n",
    "- This \t\n",
    "- while"
   ]
  }
 ],
 "metadata": {
  "language_info": {
   "name": "python"
  }
 },
 "nbformat": 4,
 "nbformat_minor": 2
}
