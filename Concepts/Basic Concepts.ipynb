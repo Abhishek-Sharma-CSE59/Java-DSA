{
 "cells": [
  {
   "cell_type": "markdown",
   "metadata": {
    "vscode": {
     "languageId": "plaintext"
    }
   },
   "source": [
    "**Java Basics**\n",
    "\n",
    "1. Variables:\n",
    "\n",
    "- int , double , flost , boolean , char , String\n",
    "- Declaration and initialization : int age = 38;\n",
    "\n",
    "\n",
    "2. Operators:\n",
    "- Arithmetic: +,-,*,/,%\n",
    "- Comparison: ==,!=,>,<,>=,<=\n",
    "- logical : && (and) , || (or), ! (not)\n",
    "\n",
    "3. Control Flow:\n",
    "- if, else if, else\n",
    "- for loops, while loops, do-while loops \n",
    "- switch statements."
   ]
  },
  {
   "cell_type": "markdown",
   "metadata": {},
   "source": [
    "**Arrays**\n",
    "- Declaration: int[] numbers = new int[5]; or int[] nummbers = {1,2,3,4,5};\n",
    "- Accessing elements : numbers[0]\n",
    "- Lenght : nunbers.length\n",
    "- Multidimensional arrays : int[][] matrix = new int[3][3];"
   ]
  },
  {
   "cell_type": "markdown",
   "metadata": {},
   "source": [
    "**Classes and Objects:**\n",
    "- Class definition: code in Basics.java file\n",
    "- Object creation :  Person person1 = new Person(\"Alice\", 25);\n",
    "- Methods: Functions within a class.\n",
    "- \"this\" Keyword: Refers to the current object."
   ]
  },
  {
   "cell_type": "markdown",
   "metadata": {},
   "source": [
    "**Methods**\n",
    "\n",
    "- Method declaration: public int add(int a, int b) { return a+b; }\n",
    "- Parameters and return type.\n",
    "- void methods (no return value).\n",
    "- Static methods."
   ]
  },
  {
   "cell_type": "markdown",
   "metadata": {},
   "source": [
    "**Strings**\n",
    "\n",
    "- String Manipulation:\n",
    "    - lenth() \n",
    "    - charAt(index) \n",
    "    - substring(start, end)\n",
    "    - equals(otherString)\n",
    "    - compareTo(otherString)\n",
    "    - concat(otherString)\n",
    "    - split(regex)\n",
    "\n",
    "- Stringbuilder and StringBuffer.\n"
   ]
  },
  {
   "cell_type": "markdown",
   "metadata": {},
   "source": [
    "**Input/Output**\n",
    "\n",
    "- System.out.println(): printing to the console.\n",
    "- Scanner class : Reading input from the console.\n",
    "\n",
    "code in basics.java file"
   ]
  },
  {
   "cell_type": "markdown",
   "metadata": {},
   "source": [
    "**Common Java Libraries (for DSA)**\n",
    "\n",
    "- java.util.Arrays \n",
    "    - Arrays.sort() : Sorting arrays.\n",
    "    - Arrays.binarySearch() : searching sorted arrays.\n",
    "    - Arrays.copyOf(): copying arrays.\n",
    "\n",
    "- java.util.ArraysList\n",
    "    - Dynamic arrays (resizable).\n",
    "        - add()\n",
    "        - get()\n",
    "        - set()\n",
    "        - remove()\n",
    "        - size()\n",
    "    \n",
    "- java.util.LinkedList\n",
    "    - Linked list Implementation.\n",
    "\n",
    "- java.util.Stack:\n",
    "    - LIFO (last-in, first-Out) data Structure.\n",
    "\n",
    "- java.util.Queue\n",
    "    - FIFO (first-in , first-Out) data structure \n",
    "\n",
    "- java.util.HashMap\n",
    "    - Key-Value pairs (hash table).\n",
    "\n",
    "- java.util.HashSet\n",
    "    - Stores unique elements.\n",
    "\n",
    "- java.util.PriorityQueue\n",
    "    - Priority Queue implementation"
   ]
  },
  {
   "cell_type": "markdown",
   "metadata": {},
   "source": [
    "**Important Concepts for DSA:**\n",
    "\n",
    "- Recusrsion : A function calling itself.\n",
    "- Time and Space Complexity : Understanding how to analyze the efficiency of algorithms (Big O Notation). "
   ]
  }
 ],
 "metadata": {
  "language_info": {
   "name": "python"
  }
 },
 "nbformat": 4,
 "nbformat_minor": 2
}
